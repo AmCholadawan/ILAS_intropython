{
 "cells": [
  {
   "cell_type": "code",
   "execution_count": 7,
   "metadata": {},
   "outputs": [
    {
     "data": {
      "text/html": [
       "<style>\n",
       "\n",
       "body {\n",
       " counter-reset: h2counter;\n",
       "}\n",
       "h1 {\n",
       " counter-reset: h2counter;\n",
       "}\n",
       "h2:before {\n",
       " content: counter(h2counter) \".\\0000a0\\0000a0\";\n",
       " counter-increment: h2counter;\n",
       " counter-reset: h3counter;\n",
       "}\n",
       "\n",
       "\n",
       "</style>\n"
      ],
      "text/plain": [
       "<IPython.core.display.HTML object>"
      ]
     },
     "execution_count": 7,
     "metadata": {},
     "output_type": "execute_result"
    }
   ],
   "source": [
    "from IPython.core.display import HTML\n",
    "def css_styling():\n",
    "    styles = open(\"./styles/custom.css\", \"r\").read()\n",
    "    return HTML(styles)\n",
    "css_styling()"
   ]
  },
  {
   "cell_type": "markdown",
   "metadata": {},
   "source": [
    "### BEFORE YOU DO ANYTHING...\n",
    "In the terminal:\n",
    "1. Navigate to __inside__ your ILAS_Python repository.\n",
    "2. __COMMIT__ any un-commited work on your personal computer.\n",
    "3. __PULL__ any changes *you* have made using another computer.\n",
    "4. __PULL__ textbook updates (including homework answers).\n",
    "\n",
    "Then:\n",
    "1. __Open Jupyter notebook:__   Start >> Programs (すべてのプログラム) >> Programming >> Anaconda3 >> JupyterNotebook\n",
    "1. __Navigate to the ILAS_Python folder__. \n",
    "1. __Open today's seminar__  by clicking on 9_Input_and_Output."
   ]
  },
  {
   "cell_type": "markdown",
   "metadata": {},
   "source": [
    "# Inputs and Outputs\n",
    "\n",
    "# Lesson Goal\n",
    "\n",
    "To use a program to:\n",
    " - read information from external sources.\n",
    " - write information generated in the program to external files."
   ]
  },
  {
   "cell_type": "markdown",
   "metadata": {},
   "source": [
    "Objectives\n",
    "\n",
    " - Writing, saving and running standalone python files (outside of Jupyter notebook)\n",
    " - Ineracting dynamically with a program user (e.g. using keyboard and mouse prompts)\n",
    " - Reading data __from__ and writing data __to__ external:<br>Python files<br>other files types (.csv, \n",
    " "
   ]
  },
  {
   "cell_type": "markdown",
   "metadata": {},
   "source": [
    "# Why we are studying this\n",
    "\n",
    "#### Fundamentals of Programming\n",
    "\n",
    "Until now, we have run Python code within the Jupyter Notebook environment.\n",
    "\n",
    "The purpose of this was to focus on the functionality of the code itself, without worrying about the mechanics of how the program works within the computer system.\n",
    "\n",
    "\n",
    "\n",
    "\n"
   ]
  },
  {
   "cell_type": "markdown",
   "metadata": {},
   "source": [
    "The textbook of instructions for:\n",
    "- in-class and review exercises.\n",
    "- the assigment\n",
    "- the exam\n",
    "...will all be given in as Jupyter notebooks.\n",
    "\n",
    "However, from now on we will be writing standalone Python programs using the skills that you have learnt so far..."
   ]
  },
  {
   "cell_type": "markdown",
   "metadata": {},
   "source": [
    "#### Applications of Programming\n",
    "\n",
    "The remaining seminars will focus on applying what you have learnt to data, such as you might find as part of an assignment for another subject, or a personal project. \n",
    "\n",
    " - __Inputs and Outputs:__ Interfacing with external data sources/deposits.\n",
    " - __In-class assessment:__ Consolidating skills in a project.\n",
    " - __Error handling and exceptions:__ Diagnosing erros and how to fix them.\n",
    " - __Testing:__ Writing tests to make sure your code is workign correctly.\n"
   ]
  },
  {
   "cell_type": "code",
   "execution_count": 8,
   "metadata": {
    "collapsed": true
   },
   "outputs": [],
   "source": [
    "## Lesson Structure\n",
    "\n"
   ]
  },
  {
   "cell_type": "markdown",
   "metadata": {},
   "source": [
    "# Python files.\n",
    "\n",
    "A python file is a file containig python code that ends with the file extension .py\n",
    "\n",
    "There are several ways to create and run a Python file...\n",
    "\n",
    "\n",
    "writing\n",
    "running\n",
    "\n",
    "creating a second file\n",
    "rules for importing \n",
    "\n"
   ]
  },
  {
   "cell_type": "markdown",
   "metadata": {},
   "source": [
    "## Writing Python outside of Jupyter Notebook.\n",
    "### Writing code in the terminal.\n",
    "\n",
    "The simplest way to write and run Python code is to write it directly to the terminal.\n",
    "\n",
    "Open a terminal.\n",
    "\n",
    "Type:\n",
    ">`python3`\n",
    "\n",
    "Press enter\n",
    "\n",
    "\n"
   ]
  },
  {
   "cell_type": "markdown",
   "metadata": {},
   "source": [
    "You have launched the python shell.\n",
    "\n",
    "The terminal should now look something like this: \n",
    "\n",
    "<img src=\"img/python_shell.png\" alt=\"Drawing\" style=\"width: 300px;\"/>\n",
    "\n",
    "Notice the command prompt now begins with `>>>`\n",
    "\n",
    "You can now run Python code directly in the terminal.\n",
    "\n",
    "You can run the code by pressing enter.\n"
   ]
  },
  {
   "cell_type": "markdown",
   "metadata": {},
   "source": [
    "__Try it yourself__\n",
    "\n",
    "Type a line of code in the terminal e.g.\n",
    ">`print('hello world')`\n",
    "\n",
    "Press enter to run it."
   ]
  },
  {
   "cell_type": "markdown",
   "metadata": {},
   "source": [
    "To run multiple lines of code, seperate the lines with a ; semi-colon e.g.\n",
    ">`print('hello world'); print(4))`"
   ]
  },
  {
   "cell_type": "markdown",
   "metadata": {},
   "source": [
    "To exit the Python shell type:\n",
    ">`quit()`\n",
    "\n",
    "or\n",
    "\n",
    ">`exit()`"
   ]
  },
  {
   "cell_type": "markdown",
   "metadata": {},
   "source": [
    "It is useful to:\n",
    "- save Python code:\n",
    " - to make edits and re-run code\n",
    " - to save code for use at a later date (e.g. subsequent seminar or review)\n",
    "- arrange code on multiple lines (readability)"
   ]
  },
  {
   "cell_type": "markdown",
   "metadata": {},
   "source": [
    "### Writing code in an IDE (Integrated Development Environment)\n",
    "\n",
    "Exit the Python shell if you haven't already.\n",
    "\n"
   ]
  },
  {
   "cell_type": "markdown",
   "metadata": {},
   "source": [
    "We are going to open a very simple program caled spyder.\n",
    "\n",
    "In the terminal type:\n",
    "> spyder\n",
    "\n",
    "and press enter.\n",
    "\n",
    "#### OR\n",
    "\n",
    "Use the start menu to go to where you usally open Jupyter notebook from and, instead open Spyder e.g.:\n",
    "\n",
    "Start >> Programs (すべてのプログラム) >> Programming >> Anaconda3 >> Spyder"
   ]
  },
  {
   "cell_type": "markdown",
   "metadata": {
    "collapsed": true
   },
   "source": [
    "Spyder is an IDE (Integrated Development Environment).\n",
    "\n",
    "An IDE is software with the basic tools to write and test code:\n",
    "    \n",
    "- code editor\n",
    "- an interpreter\n",
    "- a debugger\n"
   ]
  },
  {
   "cell_type": "markdown",
   "metadata": {},
   "source": [
    "If you have a preferred IDE or text editor that you already use to write code (e.g. sublime, eclipse, pycharm, notebook++) feel free to use that instead of Spyder."
   ]
  },
  {
   "cell_type": "markdown",
   "metadata": {},
   "source": [
    "### Writing and running code in the Spyder IDE \n",
    "You can write code by tying in the box on the left (editor).\n",
    "\n",
    "You can run the code you have typed by clicking the green triangle in the menu bar at the top of the window.\n",
    "\n",
    "<img src=\"img/run_spyder.png\" alt=\"Drawing\" style=\"width: 300px;\"/>\n",
    "\n",
    "The output should appear in the box on the bottom right (console)\n",
    "\n",
    "The box in the top, right can be used to diplay the file system or stored variables (much ilke in MATLAB)."
   ]
  },
  {
   "cell_type": "markdown",
   "metadata": {},
   "source": [
    "__Try it yourself__\n",
    "\n",
    "Type a line of code in the editor e.g.\n",
    ">`print('hello world')`\n",
    "\n",
    "Press the green triangle to run it.\n",
    "\n",
    "Type a line of code in the editor that stores a variable e.g.\n",
    ">a = 1\n",
    "\n",
    "Click on the *variable explorer* tab to view it in the top right window."
   ]
  },
  {
   "cell_type": "raw",
   "metadata": {},
   "source": []
  },
  {
   "cell_type": "raw",
   "metadata": {},
   "source": []
  },
  {
   "cell_type": "markdown",
   "metadata": {},
   "source": [
    "### Saving your program using Spyder.\n",
    "\n",
    "Click:\n",
    "\n",
    "File >> Save as \n",
    "\n",
    "Give the file the name File_A.py\n",
    "\n",
    "The file extension .py is automatically chosen.\n",
    "\n",
    "DO NOT save the file in the same folder as the ILAS python textbook. \n",
    "\n",
    "Choose a location, create a new folder, store the file inside of it.  \n",
    "\n",
    "You wil save your Python programs in this folder. Give it a  suitable name.\n"
   ]
  },
  {
   "cell_type": "markdown",
   "metadata": {},
   "source": [
    "### An alternative way to save your program using Spyder.\n",
    "\n",
    "Spyder allows users to associate a directory with a *project. \n",
    "\n",
    "This has two main advantages:\n",
    "1. Projects remember the list of open files in Editor. \n",
    "1. The project’s path is added to the list of paths in which Python looks for modules (Python files containing functions and constants to be imported to other Python files). This means that any modules developed as part of a project can be easily imported in any console.\n",
    "\n",
    "Projects are completely optional i.e. you can work without creating projects."
   ]
  },
  {
   "cell_type": "markdown",
   "metadata": {},
   "source": [
    "In the spyder toolbar click:\n",
    "\n",
    "Projects >> New project\n",
    "\n",
    "<img src=\"img/new_project.png\" alt=\"Drawing\" style=\"width: 300px;\"/>\n",
    "\n",
    "__New directory__\n",
    "<br>A folder with the *Project name* given will be created in the *Location* specified.\n",
    "\n",
    "__Existing drectory__ \n",
    "<br>An existing folder can be associated with a project. "
   ]
  },
  {
   "cell_type": "markdown",
   "metadata": {},
   "source": [
    "To add new files to the folder:\n",
    "1. Right click on the project name in the *Project explorer* window on the left of the screen.\n",
    "1. Click New >> File..."
   ]
  },
  {
   "cell_type": "markdown",
   "metadata": {},
   "source": [
    "### Running your program without using Spyder.\n",
    "Spyder and other IDEs provide a convenient way to write, run and save code.\n",
    "\n",
    "However, once you have saved your program you can run it without the need for another program. \n",
    "\n",
    "In the terminal, use `cd` to navigate to within the folder where you just saved your file.\n",
    "\n",
    "Type:\n",
    "\n",
    ">`python3 filename.py`\n",
    "\n",
    "replacing `filename` with the name that you gave your file.\n",
    "\n",
    "Notice that the output is the same as when running the file in the IDE."
   ]
  },
  {
   "cell_type": "markdown",
   "metadata": {},
   "source": [
    "### Creating Python files without using Spyder.\n",
    "In fact, you don't even need an IDE to create a Python file. \n",
    "\n",
    "You can write Python code in a normal text editor (Notepad (Windows), Wordpad (Windows), TextEdit (Mac), Text Editor (Ubuntu Linux).\n",
    "\n",
    "Provided you add the file extension .py when saving the file, you can run the file exactly the same way as we just did from the command line."
   ]
  },
  {
   "cell_type": "markdown",
   "metadata": {},
   "source": [
    "__Try it yourself__\n",
    "<br>Open a text editor. \n",
    "<br>Write some simple Python code that __prints an output__ so that you can see it is working.\n",
    "<br>Save it inside of the folder containing File_A.py\n",
    "<br>Give the new file the name File_B.py\n",
    "<br>Run the file from the command line. "
   ]
  },
  {
   "cell_type": "markdown",
   "metadata": {
    "collapsed": true
   },
   "source": [
    "The last example we will look at is converting th notebooks you have been working in drectly to Python files.\n",
    "### Converting a Jupyter notebook to a Python file.\n",
    "You can convert the code you have written in a notebook directly to a Python file.\n",
    "\n",
    "At the toolbar at the top of the notebook click:\n",
    "<br>File >> Download as >> Python (.py)\n",
    "\n",
    "<img src=\"img/save_as_python.png\" alt=\"Drawing\" style=\"width: 300px;\"/>\n",
    "\n"
   ]
  },
  {
   "cell_type": "markdown",
   "metadata": {},
   "source": [
    "Depending on your operating system you may then be given options to:\n",
    "- save the file \n",
    "- open the file (and the application to open the file with e.g. web or text editor).\n",
    "\n",
    "Choose to open the file in a text editor if possible - you just need to be able to see it.\n",
    "\n",
    "Notice the Python code appears as it does in the notebook.\n",
    "\n",
    "The text in the non-code cells appears, preceded by a #, as comments."
   ]
  },
  {
   "cell_type": "markdown",
   "metadata": {
    "collapsed": true
   },
   "source": [
    "## Creating a Git repository for your own project.\n",
    "\n",
    "When working outside of the organised cells of Jupyter notebook, it can be easier to break and destroy parts of your program.\n",
    "\n",
    "Version control using Git is a useful way to incrementally save your changes and revert back to a previous version if everything goes wrong. \n",
    "\n",
    "You will create a Git repository, seperate from the ILAS_python repository."
   ]
  },
  {
   "cell_type": "markdown",
   "metadata": {},
   "source": [
    "The following section is taken from the notebook 1_Introduction_to_version_control.ipynb in the ILAS_Python repository. \n",
    "\n"
   ]
  },
  {
   "cell_type": "markdown",
   "metadata": {},
   "source": [
    "### Setting up a new Git repository\n",
    "\n",
    "Hopefully you will want to start using Git for version control of other projects.\n",
    "\n",
    "So far you have set up each new repository to contain a clone of another repository. \n",
    "\n",
    "The clone includes a `.git` folder, which is already set up to track the contents of the repository and contains the history of these files."
   ]
  },
  {
   "cell_type": "markdown",
   "metadata": {},
   "source": [
    "The files to track need to be contained within a folder. \n",
    "\n",
    "Either create a folder and navigate into it using the command line (use `cd`), \n",
    "<br>or navigate into an existing folder that you want to track the contents of. \n",
    "\n",
    "In ther terminal type:\n",
    "\n",
    "> git init\n",
    "\n",
    "This command initialises (`init`) the directory as a Git repository."
   ]
  },
  {
   "cell_type": "markdown",
   "metadata": {},
   "source": [
    "You can now use the steps you are already familar with to commit chnages to the files within the folder. \n",
    "\n",
    ">`git add -A`\n",
    "\n",
    ">`git commit -m \"A short message explaining your changes\"`"
   ]
  },
  {
   "cell_type": "markdown",
   "metadata": {},
   "source": [
    "The steps to create a remote (online) repository are the same as those you are already familiar with.\n",
    "\n",
    "Step by step instructions are given in the full version of __Setting up a new Git repository__ which can be found in 1_Introduction_to_version_control.ipynb \n",
    "\n",
    "Please create and push your files to a remote repository for homework. "
   ]
  },
  {
   "cell_type": "markdown",
   "metadata": {},
   "source": [
    "## Storing Functions.\n",
    "Python function definitions and constants can be stored in one or more separate files.\n",
    "\n",
    "This keeps things tidy and allows the functions to be used in several programs without copying the definitions into each one. \n",
    "\n",
    "The file containig the function dfinitions is called a “module”.\n",
    "\n",
    "The module name is the file name without the “.py” extension.\n",
    "\n",
    "For example, the Numpy functions are stored in a series of modules, which are saved to you computer when you install Numpy (Note: Numpy and other commonly used packages are automatically installed with Anaconda)."
   ]
  },
  {
   "cell_type": "markdown",
   "metadata": {},
   "source": [
    "Like other library functions, functions stored in user-defined modules are made available within a program using the Python `import` keyword followed by the module name. \n",
    "\n",
    "Example\n",
    "\n",
    ">`import numpy`\n",
    "\n",
    "It is customary to place all import statements at the beginning of the program."
   ]
  },
  {
   "cell_type": "markdown",
   "metadata": {},
   "source": [
    "As we hae already studied, imported functions or constants can be called using the module name followed by the function name.\n",
    "\n",
    "Example\n",
    "\n",
    ">`numpy.pi`"
   ]
  },
  {
   "cell_type": "markdown",
   "metadata": {},
   "source": [
    "So if we want to import a function from File_A.py to File_B.py what should we do?"
   ]
  },
  {
   "cell_type": "markdown",
   "metadata": {},
   "source": [
    "__Try it yourself__\n",
    "\n",
    "1. In Spyder, use File >> Open to open File_B.py in the IDE.\n",
    "\n",
    "1. Copy and paste the two functions from the cell below to File_B. <br>You can delete any code that was already in File_B."
   ]
  },
  {
   "cell_type": "code",
   "execution_count": 14,
   "metadata": {},
   "outputs": [],
   "source": [
    "def print_a_number(number=2):\n",
    "    print(number)    \n",
    "    \n",
    "def type_interrogate(data):\n",
    "    print(type(data))"
   ]
  },
  {
   "cell_type": "markdown",
   "metadata": {},
   "source": [
    "3 Save the file :\n",
    "\n",
    "File >> Save"
   ]
  },
  {
   "cell_type": "markdown",
   "metadata": {},
   "source": [
    "4 In File_A:\n",
    "- import File_B.py\n",
    "- call the two functions\n",
    "\n",
    "What happens if `print_a_number` is called without an argument?\n",
    "\n",
    "What happpens if `type_interrogate` is called without an argument? "
   ]
  },
  {
   "cell_type": "markdown",
   "metadata": {},
   "source": [
    "File_A and File_B are in the same folder.\n",
    "\n",
    "If we create a new folder (e.g. called new_folder) within this folder, and within new folder we create File_C.py, <br>then to import File_C to File_A or File_B, we must include:\n",
    ">`import new_folder/File_C`\n",
    "\n"
   ]
  },
  {
   "cell_type": "markdown",
   "metadata": {},
   "source": [
    "In contrast, if File_C is located one level higher than File_A and File_B in the file system,<br> then to import File_C, we must include:\n",
    ">`import ../File_C`"
   ]
  },
  {
   "cell_type": "markdown",
   "metadata": {},
   "source": [
    "How do you think we import File_D to File_A?"
   ]
  },
  {
   "cell_type": "markdown",
   "metadata": {},
   "source": [
    "Internally, each Python module and program has its own “symbol table” which contains the names of all functions.\n",
    "\n",
    "When you import a module with an import statement, only the module’s name gets added to the program’s symbol table – that module’s symbol table does not get added.\n",
    "\n",
    "This is to avoid possible conflicts due to functions with the same name appearing in multiple imported modules. \n",
    "\n",
    "This is why you must prefix the function name with the module name. \n",
    "\n"
   ]
  },
  {
   "cell_type": "markdown",
   "metadata": {},
   "source": [
    "You can import individual function names using `from ... import`e.g.\n",
    ">`from numpy import pi`\n",
    "\n",
    "You can import all function names into the program’s own symbol table using the character  * e.g. \n",
    ">`from File_A import *`"
   ]
  },
  {
   "cell_type": "markdown",
   "metadata": {},
   "source": [
    "It is generally condsidered best practise to call functions with the module name prefix. \n",
    "\n",
    "It is inadvisable to use * where you do not know the full content of a module e.g. a library such as Numpy.\n",
    "\n",
    "It may be appropraite to use * with a small, *specific*, user-defined module. "
   ]
  },
  {
   "cell_type": "code",
   "execution_count": 15,
   "metadata": {},
   "outputs": [
    {
     "ename": "NameError",
     "evalue": "name 'Importing' is not defined",
     "output_type": "error",
     "traceback": [
      "\u001b[0;31m---------------------------------------------------------------------------\u001b[0m",
      "\u001b[0;31mNameError\u001b[0m                                 Traceback (most recent call last)",
      "\u001b[0;32m<ipython-input-15-d5af17cf5e57>\u001b[0m in \u001b[0;36m<module>\u001b[0;34m()\u001b[0m\n\u001b[0;32m----> 1\u001b[0;31m \u001b[0mImporting\u001b[0m\u001b[0;34m\u001b[0m\u001b[0m\n\u001b[0m",
      "\u001b[0;31mNameError\u001b[0m: name 'Importing' is not defined"
     ]
    }
   ],
   "source": [
    "Importing"
   ]
  },
  {
   "cell_type": "code",
   "execution_count": null,
   "metadata": {
    "collapsed": true
   },
   "outputs": [],
   "source": []
  }
 ],
 "metadata": {
  "kernelspec": {
   "display_name": "Python 3",
   "language": "python",
   "name": "python3"
  },
  "language_info": {
   "codemirror_mode": {
    "name": "ipython",
    "version": 3
   },
   "file_extension": ".py",
   "mimetype": "text/x-python",
   "name": "python",
   "nbconvert_exporter": "python",
   "pygments_lexer": "ipython3",
   "version": "3.6.2"
  }
 },
 "nbformat": 4,
 "nbformat_minor": 2
}
